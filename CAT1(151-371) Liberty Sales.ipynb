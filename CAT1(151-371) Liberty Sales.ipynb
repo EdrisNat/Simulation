{
 "cells": [
  {
   "cell_type": "markdown",
   "id": "5b490eea-e5dc-4cc4-9409-59596b6bb2f8",
   "metadata": {},
   "source": [
    "**NAME:** SSEMUJJU EDIRISA <br>\n",
    "**IDNO:** 151-371 <br>\n",
    "**COURSE:** BCS <br>\n",
    "Github link: https://github.com/EdrisNat/Simulation-Classwork/blob/main/CAT1(151-371)%20Liberty%20Sales.ipynb"
   ]
  },
  {
   "cell_type": "markdown",
   "id": "76035947-bf9f-4283-a2d3-2b244cfb4152",
   "metadata": {},
   "source": [
    "### Importing Libraries"
   ]
  },
  {
   "cell_type": "code",
   "execution_count": 1,
   "id": "75b4d744-f622-41b4-b810-99fc70644d08",
   "metadata": {},
   "outputs": [],
   "source": [
    "import pandas as pd\n",
    "import numpy as np\n",
    "import matplotlib.pyplot as plt"
   ]
  },
  {
   "cell_type": "markdown",
   "id": "241a202b-d5f1-45b0-b55f-c142565ad601",
   "metadata": {},
   "source": [
    "### Loading the dataset"
   ]
  },
  {
   "cell_type": "code",
   "execution_count": 2,
   "id": "ee69b98c-657e-4ac5-8768-c6ef64054e3f",
   "metadata": {},
   "outputs": [
    {
     "data": {
      "text/html": [
       "<div>\n",
       "<style scoped>\n",
       "    .dataframe tbody tr th:only-of-type {\n",
       "        vertical-align: middle;\n",
       "    }\n",
       "\n",
       "    .dataframe tbody tr th {\n",
       "        vertical-align: top;\n",
       "    }\n",
       "\n",
       "    .dataframe thead th {\n",
       "        text-align: right;\n",
       "    }\n",
       "</style>\n",
       "<table border=\"1\" class=\"dataframe\">\n",
       "  <thead>\n",
       "    <tr style=\"text-align: right;\">\n",
       "      <th></th>\n",
       "      <th>Year</th>\n",
       "      <th>Global-GDP-Index-per-Capita</th>\n",
       "      <th>Cust-Serv-Calls('000s)</th>\n",
       "      <th>Employees('000)</th>\n",
       "      <th>Items('000)</th>\n",
       "      <th>Revenue($M)</th>\n",
       "    </tr>\n",
       "  </thead>\n",
       "  <tbody>\n",
       "    <tr>\n",
       "      <th>0</th>\n",
       "      <td>1</td>\n",
       "      <td>100</td>\n",
       "      <td>25</td>\n",
       "      <td>45</td>\n",
       "      <td>11</td>\n",
       "      <td>2,000</td>\n",
       "    </tr>\n",
       "    <tr>\n",
       "      <th>1</th>\n",
       "      <td>2</td>\n",
       "      <td>112</td>\n",
       "      <td>27</td>\n",
       "      <td>53</td>\n",
       "      <td>11</td>\n",
       "      <td>2,400</td>\n",
       "    </tr>\n",
       "    <tr>\n",
       "      <th>2</th>\n",
       "      <td>3</td>\n",
       "      <td>115</td>\n",
       "      <td>22</td>\n",
       "      <td>54</td>\n",
       "      <td>12</td>\n",
       "      <td>2,700</td>\n",
       "    </tr>\n",
       "    <tr>\n",
       "      <th>3</th>\n",
       "      <td>4</td>\n",
       "      <td>123</td>\n",
       "      <td>27</td>\n",
       "      <td>58</td>\n",
       "      <td>14</td>\n",
       "      <td>2,900</td>\n",
       "    </tr>\n",
       "    <tr>\n",
       "      <th>4</th>\n",
       "      <td>5</td>\n",
       "      <td>122</td>\n",
       "      <td>32</td>\n",
       "      <td>60</td>\n",
       "      <td>14</td>\n",
       "      <td>3,200</td>\n",
       "    </tr>\n",
       "    <tr>\n",
       "      <th>5</th>\n",
       "      <td>6</td>\n",
       "      <td>132</td>\n",
       "      <td>33</td>\n",
       "      <td>65</td>\n",
       "      <td>15</td>\n",
       "      <td>3,500</td>\n",
       "    </tr>\n",
       "    <tr>\n",
       "      <th>6</th>\n",
       "      <td>7</td>\n",
       "      <td>143</td>\n",
       "      <td>40</td>\n",
       "      <td>72</td>\n",
       "      <td>16</td>\n",
       "      <td>4,000</td>\n",
       "    </tr>\n",
       "    <tr>\n",
       "      <th>7</th>\n",
       "      <td>8</td>\n",
       "      <td>126</td>\n",
       "      <td>30</td>\n",
       "      <td>65</td>\n",
       "      <td>16</td>\n",
       "      <td>4,200</td>\n",
       "    </tr>\n",
       "    <tr>\n",
       "      <th>8</th>\n",
       "      <td>9</td>\n",
       "      <td>166</td>\n",
       "      <td>34</td>\n",
       "      <td>85</td>\n",
       "      <td>17</td>\n",
       "      <td>4,500</td>\n",
       "    </tr>\n",
       "    <tr>\n",
       "      <th>9</th>\n",
       "      <td>10</td>\n",
       "      <td>157</td>\n",
       "      <td>47</td>\n",
       "      <td>97</td>\n",
       "      <td>18</td>\n",
       "      <td>4,700</td>\n",
       "    </tr>\n",
       "    <tr>\n",
       "      <th>10</th>\n",
       "      <td>11</td>\n",
       "      <td>176</td>\n",
       "      <td>33</td>\n",
       "      <td>98</td>\n",
       "      <td>18</td>\n",
       "      <td>4,900</td>\n",
       "    </tr>\n",
       "    <tr>\n",
       "      <th>11</th>\n",
       "      <td>12</td>\n",
       "      <td>180</td>\n",
       "      <td>45</td>\n",
       "      <td>100</td>\n",
       "      <td>20</td>\n",
       "      <td>5,000</td>\n",
       "    </tr>\n",
       "  </tbody>\n",
       "</table>\n",
       "</div>"
      ],
      "text/plain": [
       "    Year  Global-GDP-Index-per-Capita  Cust-Serv-Calls('000s)  \\\n",
       "0      1                          100                      25   \n",
       "1      2                          112                      27   \n",
       "2      3                          115                      22   \n",
       "3      4                          123                      27   \n",
       "4      5                          122                      32   \n",
       "5      6                          132                      33   \n",
       "6      7                          143                      40   \n",
       "7      8                          126                      30   \n",
       "8      9                          166                      34   \n",
       "9     10                          157                      47   \n",
       "10    11                          176                      33   \n",
       "11    12                          180                      45   \n",
       "\n",
       "    Employees('000)  Items('000) Revenue($M)  \n",
       "0                45           11       2,000  \n",
       "1                53           11       2,400  \n",
       "2                54           12       2,700  \n",
       "3                58           14       2,900  \n",
       "4                60           14       3,200  \n",
       "5                65           15       3,500  \n",
       "6                72           16       4,000  \n",
       "7                65           16       4,200  \n",
       "8                85           17       4,500  \n",
       "9                97           18       4,700  \n",
       "10               98           18       4,900  \n",
       "11              100           20       5,000  "
      ]
     },
     "execution_count": 2,
     "metadata": {},
     "output_type": "execute_result"
    }
   ],
   "source": [
    "data = pd.read_csv(\"budget.csv\")\n",
    "data"
   ]
  },
  {
   "cell_type": "code",
   "execution_count": 3,
   "id": "8ee334fd-4b40-43a1-a5f2-489cbd13891f",
   "metadata": {},
   "outputs": [
    {
     "data": {
      "text/plain": [
       "Year                            int64\n",
       "Global-GDP-Index-per-Capita     int64\n",
       "Cust-Serv-Calls('000s)          int64\n",
       "Employees('000)                 int64\n",
       "Items('000)                     int64\n",
       "Revenue($M)                    object\n",
       "dtype: object"
      ]
     },
     "execution_count": 3,
     "metadata": {},
     "output_type": "execute_result"
    }
   ],
   "source": [
    "data.dtypes"
   ]
  },
  {
   "cell_type": "markdown",
   "id": "0b714a8c-4548-40de-8ff4-715c920b373d",
   "metadata": {},
   "source": [
    "### Cleaning data"
   ]
  },
  {
   "cell_type": "code",
   "execution_count": 4,
   "id": "f2c58522-2bcb-4999-aa15-796b071f3e85",
   "metadata": {},
   "outputs": [],
   "source": [
    "data['Revenue($M)'] = data['Revenue($M)'].str.replace(',', '')  #Replacing the comma with an empty space\n",
    "data['Revenue($M)'] = data['Revenue($M)'].astype(int) #Converting Revenue from string to integer"
   ]
  },
  {
   "cell_type": "code",
   "execution_count": 5,
   "id": "93ff00a8-bfd3-4cce-8744-88613d0596ab",
   "metadata": {},
   "outputs": [
    {
     "data": {
      "text/plain": [
       "Year                           int64\n",
       "Global-GDP-Index-per-Capita    int64\n",
       "Cust-Serv-Calls('000s)         int64\n",
       "Employees('000)                int64\n",
       "Items('000)                    int64\n",
       "Revenue($M)                    int32\n",
       "dtype: object"
      ]
     },
     "execution_count": 5,
     "metadata": {},
     "output_type": "execute_result"
    }
   ],
   "source": [
    "data.dtypes"
   ]
  },
  {
   "cell_type": "code",
   "execution_count": 6,
   "id": "d79ce7d0-7b11-4299-8f3d-8a43d8d14804",
   "metadata": {},
   "outputs": [
    {
     "data": {
      "text/html": [
       "<div>\n",
       "<style scoped>\n",
       "    .dataframe tbody tr th:only-of-type {\n",
       "        vertical-align: middle;\n",
       "    }\n",
       "\n",
       "    .dataframe tbody tr th {\n",
       "        vertical-align: top;\n",
       "    }\n",
       "\n",
       "    .dataframe thead th {\n",
       "        text-align: right;\n",
       "    }\n",
       "</style>\n",
       "<table border=\"1\" class=\"dataframe\">\n",
       "  <thead>\n",
       "    <tr style=\"text-align: right;\">\n",
       "      <th></th>\n",
       "      <th>Year</th>\n",
       "      <th>Global-GDP-Index-per-Capita</th>\n",
       "      <th>Cust-Serv-Calls('000s)</th>\n",
       "      <th>Employees('000)</th>\n",
       "      <th>Items('000)</th>\n",
       "      <th>Revenue($M)</th>\n",
       "    </tr>\n",
       "  </thead>\n",
       "  <tbody>\n",
       "    <tr>\n",
       "      <th>0</th>\n",
       "      <td>1</td>\n",
       "      <td>100</td>\n",
       "      <td>25</td>\n",
       "      <td>45</td>\n",
       "      <td>11</td>\n",
       "      <td>2000</td>\n",
       "    </tr>\n",
       "    <tr>\n",
       "      <th>1</th>\n",
       "      <td>2</td>\n",
       "      <td>112</td>\n",
       "      <td>27</td>\n",
       "      <td>53</td>\n",
       "      <td>11</td>\n",
       "      <td>2400</td>\n",
       "    </tr>\n",
       "    <tr>\n",
       "      <th>2</th>\n",
       "      <td>3</td>\n",
       "      <td>115</td>\n",
       "      <td>22</td>\n",
       "      <td>54</td>\n",
       "      <td>12</td>\n",
       "      <td>2700</td>\n",
       "    </tr>\n",
       "    <tr>\n",
       "      <th>3</th>\n",
       "      <td>4</td>\n",
       "      <td>123</td>\n",
       "      <td>27</td>\n",
       "      <td>58</td>\n",
       "      <td>14</td>\n",
       "      <td>2900</td>\n",
       "    </tr>\n",
       "    <tr>\n",
       "      <th>4</th>\n",
       "      <td>5</td>\n",
       "      <td>122</td>\n",
       "      <td>32</td>\n",
       "      <td>60</td>\n",
       "      <td>14</td>\n",
       "      <td>3200</td>\n",
       "    </tr>\n",
       "    <tr>\n",
       "      <th>5</th>\n",
       "      <td>6</td>\n",
       "      <td>132</td>\n",
       "      <td>33</td>\n",
       "      <td>65</td>\n",
       "      <td>15</td>\n",
       "      <td>3500</td>\n",
       "    </tr>\n",
       "    <tr>\n",
       "      <th>6</th>\n",
       "      <td>7</td>\n",
       "      <td>143</td>\n",
       "      <td>40</td>\n",
       "      <td>72</td>\n",
       "      <td>16</td>\n",
       "      <td>4000</td>\n",
       "    </tr>\n",
       "    <tr>\n",
       "      <th>7</th>\n",
       "      <td>8</td>\n",
       "      <td>126</td>\n",
       "      <td>30</td>\n",
       "      <td>65</td>\n",
       "      <td>16</td>\n",
       "      <td>4200</td>\n",
       "    </tr>\n",
       "    <tr>\n",
       "      <th>8</th>\n",
       "      <td>9</td>\n",
       "      <td>166</td>\n",
       "      <td>34</td>\n",
       "      <td>85</td>\n",
       "      <td>17</td>\n",
       "      <td>4500</td>\n",
       "    </tr>\n",
       "    <tr>\n",
       "      <th>9</th>\n",
       "      <td>10</td>\n",
       "      <td>157</td>\n",
       "      <td>47</td>\n",
       "      <td>97</td>\n",
       "      <td>18</td>\n",
       "      <td>4700</td>\n",
       "    </tr>\n",
       "    <tr>\n",
       "      <th>10</th>\n",
       "      <td>11</td>\n",
       "      <td>176</td>\n",
       "      <td>33</td>\n",
       "      <td>98</td>\n",
       "      <td>18</td>\n",
       "      <td>4900</td>\n",
       "    </tr>\n",
       "    <tr>\n",
       "      <th>11</th>\n",
       "      <td>12</td>\n",
       "      <td>180</td>\n",
       "      <td>45</td>\n",
       "      <td>100</td>\n",
       "      <td>20</td>\n",
       "      <td>5000</td>\n",
       "    </tr>\n",
       "  </tbody>\n",
       "</table>\n",
       "</div>"
      ],
      "text/plain": [
       "    Year  Global-GDP-Index-per-Capita  Cust-Serv-Calls('000s)  \\\n",
       "0      1                          100                      25   \n",
       "1      2                          112                      27   \n",
       "2      3                          115                      22   \n",
       "3      4                          123                      27   \n",
       "4      5                          122                      32   \n",
       "5      6                          132                      33   \n",
       "6      7                          143                      40   \n",
       "7      8                          126                      30   \n",
       "8      9                          166                      34   \n",
       "9     10                          157                      47   \n",
       "10    11                          176                      33   \n",
       "11    12                          180                      45   \n",
       "\n",
       "    Employees('000)  Items('000)  Revenue($M)  \n",
       "0                45           11         2000  \n",
       "1                53           11         2400  \n",
       "2                54           12         2700  \n",
       "3                58           14         2900  \n",
       "4                60           14         3200  \n",
       "5                65           15         3500  \n",
       "6                72           16         4000  \n",
       "7                65           16         4200  \n",
       "8                85           17         4500  \n",
       "9                97           18         4700  \n",
       "10               98           18         4900  \n",
       "11              100           20         5000  "
      ]
     },
     "execution_count": 6,
     "metadata": {},
     "output_type": "execute_result"
    }
   ],
   "source": [
    "data"
   ]
  },
  {
   "cell_type": "markdown",
   "id": "c5a5b4b7-bbf4-4009-af24-c312ab82ae5f",
   "metadata": {},
   "source": [
    "# <span style=\"color:blue\">Question one (Simple Linear Regression)</span>"
   ]
  },
  {
   "cell_type": "markdown",
   "id": "1c3909e1-6e46-4354-b326-3645b1a33875",
   "metadata": {},
   "source": [
    "#### (a)Determining Strong Relationship to the Dependant variable"
   ]
  },
  {
   "cell_type": "code",
   "execution_count": 7,
   "id": "63e00c7b-0b51-4d95-a36e-1e5b0dbe6942",
   "metadata": {},
   "outputs": [
    {
     "data": {
      "text/html": [
       "<div>\n",
       "<style scoped>\n",
       "    .dataframe tbody tr th:only-of-type {\n",
       "        vertical-align: middle;\n",
       "    }\n",
       "\n",
       "    .dataframe tbody tr th {\n",
       "        vertical-align: top;\n",
       "    }\n",
       "\n",
       "    .dataframe thead th {\n",
       "        text-align: right;\n",
       "    }\n",
       "</style>\n",
       "<table border=\"1\" class=\"dataframe\">\n",
       "  <thead>\n",
       "    <tr style=\"text-align: right;\">\n",
       "      <th></th>\n",
       "      <th>Year</th>\n",
       "      <th>Global-GDP-Index-per-Capita</th>\n",
       "      <th>Cust-Serv-Calls('000s)</th>\n",
       "      <th>Employees('000)</th>\n",
       "      <th>Items('000)</th>\n",
       "      <th>Revenue($M)</th>\n",
       "    </tr>\n",
       "  </thead>\n",
       "  <tbody>\n",
       "    <tr>\n",
       "      <th>Year</th>\n",
       "      <td>1.000000</td>\n",
       "      <td>0.948090</td>\n",
       "      <td>0.791204</td>\n",
       "      <td>0.959299</td>\n",
       "      <td>0.986972</td>\n",
       "      <td>0.994107</td>\n",
       "    </tr>\n",
       "    <tr>\n",
       "      <th>Global-GDP-Index-per-Capita</th>\n",
       "      <td>0.948090</td>\n",
       "      <td>1.000000</td>\n",
       "      <td>0.751039</td>\n",
       "      <td>0.973485</td>\n",
       "      <td>0.937165</td>\n",
       "      <td>0.935971</td>\n",
       "    </tr>\n",
       "    <tr>\n",
       "      <th>Cust-Serv-Calls('000s)</th>\n",
       "      <td>0.791204</td>\n",
       "      <td>0.751039</td>\n",
       "      <td>1.000000</td>\n",
       "      <td>0.818930</td>\n",
       "      <td>0.832001</td>\n",
       "      <td>0.786388</td>\n",
       "    </tr>\n",
       "    <tr>\n",
       "      <th>Employees('000)</th>\n",
       "      <td>0.959299</td>\n",
       "      <td>0.973485</td>\n",
       "      <td>0.818930</td>\n",
       "      <td>1.000000</td>\n",
       "      <td>0.943514</td>\n",
       "      <td>0.946393</td>\n",
       "    </tr>\n",
       "    <tr>\n",
       "      <th>Items('000)</th>\n",
       "      <td>0.986972</td>\n",
       "      <td>0.937165</td>\n",
       "      <td>0.832001</td>\n",
       "      <td>0.943514</td>\n",
       "      <td>1.000000</td>\n",
       "      <td>0.976961</td>\n",
       "    </tr>\n",
       "    <tr>\n",
       "      <th>Revenue($M)</th>\n",
       "      <td>0.994107</td>\n",
       "      <td>0.935971</td>\n",
       "      <td>0.786388</td>\n",
       "      <td>0.946393</td>\n",
       "      <td>0.976961</td>\n",
       "      <td>1.000000</td>\n",
       "    </tr>\n",
       "  </tbody>\n",
       "</table>\n",
       "</div>"
      ],
      "text/plain": [
       "                                 Year  Global-GDP-Index-per-Capita  \\\n",
       "Year                         1.000000                     0.948090   \n",
       "Global-GDP-Index-per-Capita  0.948090                     1.000000   \n",
       "Cust-Serv-Calls('000s)       0.791204                     0.751039   \n",
       "Employees('000)              0.959299                     0.973485   \n",
       "Items('000)                  0.986972                     0.937165   \n",
       "Revenue($M)                  0.994107                     0.935971   \n",
       "\n",
       "                             Cust-Serv-Calls('000s)  Employees('000)  \\\n",
       "Year                                       0.791204         0.959299   \n",
       "Global-GDP-Index-per-Capita                0.751039         0.973485   \n",
       "Cust-Serv-Calls('000s)                     1.000000         0.818930   \n",
       "Employees('000)                            0.818930         1.000000   \n",
       "Items('000)                                0.832001         0.943514   \n",
       "Revenue($M)                                0.786388         0.946393   \n",
       "\n",
       "                             Items('000)  Revenue($M)  \n",
       "Year                            0.986972     0.994107  \n",
       "Global-GDP-Index-per-Capita     0.937165     0.935971  \n",
       "Cust-Serv-Calls('000s)          0.832001     0.786388  \n",
       "Employees('000)                 0.943514     0.946393  \n",
       "Items('000)                     1.000000     0.976961  \n",
       "Revenue($M)                     0.976961     1.000000  "
      ]
     },
     "execution_count": 7,
     "metadata": {},
     "output_type": "execute_result"
    }
   ],
   "source": [
    "data.corr()"
   ]
  },
  {
   "cell_type": "markdown",
   "id": "610cd424-8750-4624-bdf2-19000d615622",
   "metadata": {},
   "source": [
    "Printing variables that are strongly related to revenue"
   ]
  },
  {
   "cell_type": "code",
   "execution_count": 35,
   "id": "23457b62-c22b-48c0-8800-4f9ee62ca257",
   "metadata": {},
   "outputs": [
    {
     "name": "stdout",
     "output_type": "stream",
     "text": [
      "Variables strongly related to Revenue($M): ['Year', \"Items('000)\", \"Employees('000)\", 'Global-GDP-Index-per-Capita']\n"
     ]
    }
   ],
   "source": [
    "correlation = data.corr()['Revenue($M)'].sort_values(ascending=False)\n",
    "# Considering above 0.9 and excluding \"Revenue($M) itself\"\n",
    "strongly_related_variables = correlation[correlation.index != 'Revenue($M)'][correlation > 0.9].index.tolist() \n",
    "print(\"Variables strongly related to Revenue($M):\", strongly_related_variables)"
   ]
  },
  {
   "cell_type": "markdown",
   "id": "9b2c0e1e-b039-4562-bb61-a8556338010c",
   "metadata": {},
   "source": [
    "### (b) Simple linear Regression"
   ]
  },
  {
   "cell_type": "code",
   "execution_count": 36,
   "id": "6f144653-8231-4079-bccb-ca73aa887d7b",
   "metadata": {},
   "outputs": [
    {
     "data": {
      "text/html": [
       "<style>#sk-container-id-4 {color: black;}#sk-container-id-4 pre{padding: 0;}#sk-container-id-4 div.sk-toggleable {background-color: white;}#sk-container-id-4 label.sk-toggleable__label {cursor: pointer;display: block;width: 100%;margin-bottom: 0;padding: 0.3em;box-sizing: border-box;text-align: center;}#sk-container-id-4 label.sk-toggleable__label-arrow:before {content: \"▸\";float: left;margin-right: 0.25em;color: #696969;}#sk-container-id-4 label.sk-toggleable__label-arrow:hover:before {color: black;}#sk-container-id-4 div.sk-estimator:hover label.sk-toggleable__label-arrow:before {color: black;}#sk-container-id-4 div.sk-toggleable__content {max-height: 0;max-width: 0;overflow: hidden;text-align: left;background-color: #f0f8ff;}#sk-container-id-4 div.sk-toggleable__content pre {margin: 0.2em;color: black;border-radius: 0.25em;background-color: #f0f8ff;}#sk-container-id-4 input.sk-toggleable__control:checked~div.sk-toggleable__content {max-height: 200px;max-width: 100%;overflow: auto;}#sk-container-id-4 input.sk-toggleable__control:checked~label.sk-toggleable__label-arrow:before {content: \"▾\";}#sk-container-id-4 div.sk-estimator input.sk-toggleable__control:checked~label.sk-toggleable__label {background-color: #d4ebff;}#sk-container-id-4 div.sk-label input.sk-toggleable__control:checked~label.sk-toggleable__label {background-color: #d4ebff;}#sk-container-id-4 input.sk-hidden--visually {border: 0;clip: rect(1px 1px 1px 1px);clip: rect(1px, 1px, 1px, 1px);height: 1px;margin: -1px;overflow: hidden;padding: 0;position: absolute;width: 1px;}#sk-container-id-4 div.sk-estimator {font-family: monospace;background-color: #f0f8ff;border: 1px dotted black;border-radius: 0.25em;box-sizing: border-box;margin-bottom: 0.5em;}#sk-container-id-4 div.sk-estimator:hover {background-color: #d4ebff;}#sk-container-id-4 div.sk-parallel-item::after {content: \"\";width: 100%;border-bottom: 1px solid gray;flex-grow: 1;}#sk-container-id-4 div.sk-label:hover label.sk-toggleable__label {background-color: #d4ebff;}#sk-container-id-4 div.sk-serial::before {content: \"\";position: absolute;border-left: 1px solid gray;box-sizing: border-box;top: 0;bottom: 0;left: 50%;z-index: 0;}#sk-container-id-4 div.sk-serial {display: flex;flex-direction: column;align-items: center;background-color: white;padding-right: 0.2em;padding-left: 0.2em;position: relative;}#sk-container-id-4 div.sk-item {position: relative;z-index: 1;}#sk-container-id-4 div.sk-parallel {display: flex;align-items: stretch;justify-content: center;background-color: white;position: relative;}#sk-container-id-4 div.sk-item::before, #sk-container-id-4 div.sk-parallel-item::before {content: \"\";position: absolute;border-left: 1px solid gray;box-sizing: border-box;top: 0;bottom: 0;left: 50%;z-index: -1;}#sk-container-id-4 div.sk-parallel-item {display: flex;flex-direction: column;z-index: 1;position: relative;background-color: white;}#sk-container-id-4 div.sk-parallel-item:first-child::after {align-self: flex-end;width: 50%;}#sk-container-id-4 div.sk-parallel-item:last-child::after {align-self: flex-start;width: 50%;}#sk-container-id-4 div.sk-parallel-item:only-child::after {width: 0;}#sk-container-id-4 div.sk-dashed-wrapped {border: 1px dashed gray;margin: 0 0.4em 0.5em 0.4em;box-sizing: border-box;padding-bottom: 0.4em;background-color: white;}#sk-container-id-4 div.sk-label label {font-family: monospace;font-weight: bold;display: inline-block;line-height: 1.2em;}#sk-container-id-4 div.sk-label-container {text-align: center;}#sk-container-id-4 div.sk-container {/* jupyter's `normalize.less` sets `[hidden] { display: none; }` but bootstrap.min.css set `[hidden] { display: none !important; }` so we also need the `!important` here to be able to override the default hidden behavior on the sphinx rendered scikit-learn.org. See: https://github.com/scikit-learn/scikit-learn/issues/21755 */display: inline-block !important;position: relative;}#sk-container-id-4 div.sk-text-repr-fallback {display: none;}</style><div id=\"sk-container-id-4\" class=\"sk-top-container\"><div class=\"sk-text-repr-fallback\"><pre>LinearRegression()</pre><b>In a Jupyter environment, please rerun this cell to show the HTML representation or trust the notebook. <br />On GitHub, the HTML representation is unable to render, please try loading this page with nbviewer.org.</b></div><div class=\"sk-container\" hidden><div class=\"sk-item\"><div class=\"sk-estimator sk-toggleable\"><input class=\"sk-toggleable__control sk-hidden--visually\" id=\"sk-estimator-id-4\" type=\"checkbox\" checked><label for=\"sk-estimator-id-4\" class=\"sk-toggleable__label sk-toggleable__label-arrow\">LinearRegression</label><div class=\"sk-toggleable__content\"><pre>LinearRegression()</pre></div></div></div></div></div>"
      ],
      "text/plain": [
       "LinearRegression()"
      ]
     },
     "execution_count": 36,
     "metadata": {},
     "output_type": "execute_result"
    }
   ],
   "source": [
    "X=data[[\"Year\"]] # Independent Variable\n",
    "y=data[[\"Revenue($M)\"]] # Dependenet Variable\n",
    "\n",
    "#Creating a simple linear regression model\n",
    "from sklearn.linear_model import LinearRegression\n",
    "model = LinearRegression()\n",
    "model.fit(X, y) "
   ]
  },
  {
   "cell_type": "markdown",
   "id": "191e9f0e-c9e2-474c-9c91-0514578ca2c4",
   "metadata": {},
   "source": [
    "### (i)Graphical Representation"
   ]
  },
  {
   "cell_type": "code",
   "execution_count": 37,
   "id": "dd539e72-15ce-4a1b-a411-1364c258f0df",
   "metadata": {},
   "outputs": [
    {
     "data": {
      "image/png": "[encoded data removed]",
      "text/plain": [
       "<Figure size 1000x600 with 1 Axes>"
      ]
     },
     "metadata": {},
     "output_type": "display_data"
    }
   ],
   "source": [
    "import matplotlib.pyplot as plt\n",
    "plt.figure(figsize=(10,6))\n",
    "#Scatter plot of the data\n",
    "plt.scatter(X, y, color = \"blue\",)\n",
    "#Regression line\n",
    "plt.plot(X, model.predict(X), color ='red', linewidth = 2,)\n",
    "plt.title(\"Liberty Sales forecast for next year\")\n",
    "plt.xlabel(\"Year\")\n",
    "plt.ylabel(\"Revenue in Millions\")\n",
    "plt.show()"
   ]
  },
  {
   "cell_type": "markdown",
   "id": "d304384e-85bd-4a10-b1c0-71dbdfc9cdc3",
   "metadata": {},
   "source": [
    "### (ii)Intercept"
   ]
  },
  {
   "cell_type": "code",
   "execution_count": 38,
   "id": "131b9fa6-4fbe-4243-b332-99ad9f0001b5",
   "metadata": {},
   "outputs": [
    {
     "name": "stdout",
     "output_type": "stream",
     "text": [
      "Intercept: [1825.75757576]\n"
     ]
    }
   ],
   "source": [
    "intercept = model.intercept_\n",
    "print(\"Intercept:\", intercept)"
   ]
  },
  {
   "cell_type": "markdown",
   "id": "7bebd147-7591-4d0d-a2fb-068e151778c4",
   "metadata": {},
   "source": [
    "### (iii)Coefficient"
   ]
  },
  {
   "cell_type": "code",
   "execution_count": 39,
   "id": "7dcad506-4edc-40fc-b002-cd06357284c6",
   "metadata": {},
   "outputs": [
    {
     "name": "stdout",
     "output_type": "stream",
     "text": [
      "Coefficient: [[283.21678322]]\n"
     ]
    }
   ],
   "source": [
    "coefficient = model.coef_\n",
    "print(\"Coefficient:\", coefficient)"
   ]
  },
  {
   "cell_type": "markdown",
   "id": "ad190f28-0591-4292-a533-ce6bca5054f6",
   "metadata": {},
   "source": [
    "### (iv)model relationship\n",
    "### y = Mx + C where y is the Revenue($M), M is the coefficient, x is the year and C is the intercept"
   ]
  },
  {
   "cell_type": "code",
   "execution_count": 40,
   "id": "ef44f8c2-35a0-47d7-a416-ec3cac4fdbcf",
   "metadata": {},
   "outputs": [
    {
     "name": "stdout",
     "output_type": "stream",
     "text": [
      "Revenue($M) = [[283.21678322]]year + [1825.75757576]\n"
     ]
    }
   ],
   "source": [
    "model_relationship = f\"Revenue($M) = {coefficient}year + {intercept}\" #Following y = mx + C where m is coefficient and C is intercept\n",
    "print(model_relationship)"
   ]
  },
  {
   "cell_type": "markdown",
   "id": "9bbe1305-83e5-4c10-84c1-93ebf77a2fc6",
   "metadata": {},
   "source": [
    "# <span style=\"color:blue\">Question two (Multiple Linear Regression)</span>"
   ]
  },
  {
   "cell_type": "markdown",
   "id": "5f72a192-0af7-491c-9778-322c199739d4",
   "metadata": {},
   "source": [
    " Defining Dependent and independent Variables"
   ]
  },
  {
   "cell_type": "code",
   "execution_count": 24,
   "id": "c895e196-de7b-4b3e-bd72-3014f56ff764",
   "metadata": {},
   "outputs": [],
   "source": [
    "# Independent variables excluding the dependent and the varibale with a weak relationship\n",
    "P = data.drop(columns=[\"Revenue($M)\",\"Cust-Serv-Calls('000s)\"],axis = 1).values  \n",
    "# Dependent variable\n",
    "Q = data['Revenue($M)'].values  "
   ]
  },
  {
   "cell_type": "markdown",
   "id": "743ee418-c157-4512-addc-5a7b905f4c70",
   "metadata": {},
   "source": [
    "##### Multiple Linear regression"
   ]
  },
  {
   "cell_type": "code",
   "execution_count": 25,
   "id": "533d1ee3-ae76-4011-8e12-2834e1ffd061",
   "metadata": {},
   "outputs": [
    {
     "data": {
      "text/html": [
       "<style>#sk-container-id-3 {color: black;}#sk-container-id-3 pre{padding: 0;}#sk-container-id-3 div.sk-toggleable {background-color: white;}#sk-container-id-3 label.sk-toggleable__label {cursor: pointer;display: block;width: 100%;margin-bottom: 0;padding: 0.3em;box-sizing: border-box;text-align: center;}#sk-container-id-3 label.sk-toggleable__label-arrow:before {content: \"▸\";float: left;margin-right: 0.25em;color: #696969;}#sk-container-id-3 label.sk-toggleable__label-arrow:hover:before {color: black;}#sk-container-id-3 div.sk-estimator:hover label.sk-toggleable__label-arrow:before {color: black;}#sk-container-id-3 div.sk-toggleable__content {max-height: 0;max-width: 0;overflow: hidden;text-align: left;background-color: #f0f8ff;}#sk-container-id-3 div.sk-toggleable__content pre {margin: 0.2em;color: black;border-radius: 0.25em;background-color: #f0f8ff;}#sk-container-id-3 input.sk-toggleable__control:checked~div.sk-toggleable__content {max-height: 200px;max-width: 100%;overflow: auto;}#sk-container-id-3 input.sk-toggleable__control:checked~label.sk-toggleable__label-arrow:before {content: \"▾\";}#sk-container-id-3 div.sk-estimator input.sk-toggleable__control:checked~label.sk-toggleable__label {background-color: #d4ebff;}#sk-container-id-3 div.sk-label input.sk-toggleable__control:checked~label.sk-toggleable__label {background-color: #d4ebff;}#sk-container-id-3 input.sk-hidden--visually {border: 0;clip: rect(1px 1px 1px 1px);clip: rect(1px, 1px, 1px, 1px);height: 1px;margin: -1px;overflow: hidden;padding: 0;position: absolute;width: 1px;}#sk-container-id-3 div.sk-estimator {font-family: monospace;background-color: #f0f8ff;border: 1px dotted black;border-radius: 0.25em;box-sizing: border-box;margin-bottom: 0.5em;}#sk-container-id-3 div.sk-estimator:hover {background-color: #d4ebff;}#sk-container-id-3 div.sk-parallel-item::after {content: \"\";width: 100%;border-bottom: 1px solid gray;flex-grow: 1;}#sk-container-id-3 div.sk-label:hover label.sk-toggleable__label {background-color: #d4ebff;}#sk-container-id-3 div.sk-serial::before {content: \"\";position: absolute;border-left: 1px solid gray;box-sizing: border-box;top: 0;bottom: 0;left: 50%;z-index: 0;}#sk-container-id-3 div.sk-serial {display: flex;flex-direction: column;align-items: center;background-color: white;padding-right: 0.2em;padding-left: 0.2em;position: relative;}#sk-container-id-3 div.sk-item {position: relative;z-index: 1;}#sk-container-id-3 div.sk-parallel {display: flex;align-items: stretch;justify-content: center;background-color: white;position: relative;}#sk-container-id-3 div.sk-item::before, #sk-container-id-3 div.sk-parallel-item::before {content: \"\";position: absolute;border-left: 1px solid gray;box-sizing: border-box;top: 0;bottom: 0;left: 50%;z-index: -1;}#sk-container-id-3 div.sk-parallel-item {display: flex;flex-direction: column;z-index: 1;position: relative;background-color: white;}#sk-container-id-3 div.sk-parallel-item:first-child::after {align-self: flex-end;width: 50%;}#sk-container-id-3 div.sk-parallel-item:last-child::after {align-self: flex-start;width: 50%;}#sk-container-id-3 div.sk-parallel-item:only-child::after {width: 0;}#sk-container-id-3 div.sk-dashed-wrapped {border: 1px dashed gray;margin: 0 0.4em 0.5em 0.4em;box-sizing: border-box;padding-bottom: 0.4em;background-color: white;}#sk-container-id-3 div.sk-label label {font-family: monospace;font-weight: bold;display: inline-block;line-height: 1.2em;}#sk-container-id-3 div.sk-label-container {text-align: center;}#sk-container-id-3 div.sk-container {/* jupyter's `normalize.less` sets `[hidden] { display: none; }` but bootstrap.min.css set `[hidden] { display: none !important; }` so we also need the `!important` here to be able to override the default hidden behavior on the sphinx rendered scikit-learn.org. See: https://github.com/scikit-learn/scikit-learn/issues/21755 */display: inline-block !important;position: relative;}#sk-container-id-3 div.sk-text-repr-fallback {display: none;}</style><div id=\"sk-container-id-3\" class=\"sk-top-container\"><div class=\"sk-text-repr-fallback\"><pre>LinearRegression()</pre><b>In a Jupyter environment, please rerun this cell to show the HTML representation or trust the notebook. <br />On GitHub, the HTML representation is unable to render, please try loading this page with nbviewer.org.</b></div><div class=\"sk-container\" hidden><div class=\"sk-item\"><div class=\"sk-estimator sk-toggleable\"><input class=\"sk-toggleable__control sk-hidden--visually\" id=\"sk-estimator-id-3\" type=\"checkbox\" checked><label for=\"sk-estimator-id-3\" class=\"sk-toggleable__label sk-toggleable__label-arrow\">LinearRegression</label><div class=\"sk-toggleable__content\"><pre>LinearRegression()</pre></div></div></div></div></div>"
      ],
      "text/plain": [
       "LinearRegression()"
      ]
     },
     "execution_count": 25,
     "metadata": {},
     "output_type": "execute_result"
    }
   ],
   "source": [
    "multmodel = LinearRegression()\n",
    "multmodel.fit(P,Q)"
   ]
  },
  {
   "cell_type": "markdown",
   "id": "b1e22fe9-c5be-466d-b316-c1ddbaad8194",
   "metadata": {},
   "source": [
    "### (a) Graphical Representation"
   ]
  },
  {
   "cell_type": "markdown",
   "id": "5cb57697-94e0-43c8-b90a-0b0be1583bf5",
   "metadata": {},
   "source": [
    "##### Using Scatter Graph"
   ]
  },
  {
   "cell_type": "code",
   "execution_count": 48,
   "id": "2591c684-2b6e-4646-8002-22de3ed6e05f",
   "metadata": {},
   "outputs": [
    {
     "data": {
      "image/png": "[encoded data removed]",
      "text/plain": [
       "<Figure size 1000x500 with 1 Axes>"
      ]
     },
     "metadata": {},
     "output_type": "display_data"
    }
   ],
   "source": [
    "predicted_values = multmodel.predict(P)\n",
    "plt.figure(figsize=(10,5))\n",
    "plt.scatter(Q, predicted_values, label='Actual Values')\n",
    "plt.xlabel('Actual')\n",
    "plt.ylabel('Predicted')\n",
    "plt.title(\"Actual Revenue vs Predicted Revenue\")\n",
    "\n",
    "#Regression line\n",
    "plt.plot([min(Q), max(Q)], [min(predicted_values), max(predicted_values)], color='red', linestyle='-', linewidth=2, label = 'Predicted values')\n",
    "plt.legend()\n",
    "plt.show()"
   ]
  },
  {
   "cell_type": "markdown",
   "id": "c87d43a6-ef42-4b01-bcca-48041035ac23",
   "metadata": {},
   "source": [
    "#### Using the Kernel Density Estimates (KDE)"
   ]
  },
  {
   "cell_type": "code",
   "execution_count": 42,
   "id": "217bc036-ab2d-4599-8193-da30dca2dee3",
   "metadata": {},
   "outputs": [
    {
     "data": {
      "image/png": "[encoded data removed]",
      "text/plain": [
       "<Figure size 1000x500 with 1 Axes>"
      ]
     },
     "metadata": {},
     "output_type": "display_data"
    }
   ],
   "source": [
    "import matplotlib.pyplot as plt\n",
    "import seaborn as sns\n",
    "\n",
    "plt.figure(figsize=(10, 5))\n",
    "\n",
    "ax1 = sns.kdeplot(data['Revenue($M)'], color='r', label ='ActualValues') #Actual values\n",
    "sns.kdeplot(predicted_values, color=\"b\", label ='PredictedValues', ax=ax1) # predicted value\n",
    "\n",
    "plt.title('Actual vs Predicted Values for Revenue')\n",
    "plt.xlabel('Predicted Revenue')\n",
    "plt.ylabel(\"Revenue($M)\")\n",
    "plt.legend(loc = \"lower right\")\n",
    "plt.legend()\n",
    "plt.show()"
   ]
  },
  {
   "cell_type": "markdown",
   "id": "1e37cba2-8a9f-41e2-b56a-0464b7019057",
   "metadata": {},
   "source": [
    "### (b) Intercept"
   ]
  },
  {
   "cell_type": "code",
   "execution_count": 43,
   "id": "dd2c11f9-9f97-4159-b1e3-011789dee378",
   "metadata": {},
   "outputs": [
    {
     "name": "stdout",
     "output_type": "stream",
     "text": [
      "Intercept: 2645.3648371314703\n"
     ]
    }
   ],
   "source": [
    "intercept = multmodel.intercept_\n",
    "print(\"Intercept:\", intercept)"
   ]
  },
  {
   "cell_type": "markdown",
   "id": "77bfc3c7-ccd8-455b-b49c-ad18d0b4551d",
   "metadata": {},
   "source": [
    "### (C) Coeffficients"
   ]
  },
  {
   "cell_type": "code",
   "execution_count": 44,
   "id": "219dbefd-8ad9-4c5c-960b-608c9086677f",
   "metadata": {},
   "outputs": [
    {
     "name": "stdout",
     "output_type": "stream",
     "text": [
      "Coefficients: [ 3.59111784e+02 -1.64773509e-03 -5.22423937e+00 -6.20951826e+01]\n"
     ]
    }
   ],
   "source": [
    "Coefficient = multmodel.coef_\n",
    "print(\"Coefficients:\",Coefficient)"
   ]
  },
  {
   "cell_type": "markdown",
   "id": "59261056-da2e-4347-87cc-38e5f5a2cefb",
   "metadata": {},
   "source": [
    "### (d) Modeling the relationship\n",
    "### y = A + BX1 + CX2 +...+NXn where y is the Revenue($M), A is the intercept,X1, X2,....Xn are(Year, Items, Employeea and Global-GDP-Index-per-Capita) then A,B,C are coefficients"
   ]
  },
  {
   "cell_type": "code",
   "execution_count": 45,
   "id": "2cb8c652-739a-46cc-a8dd-55c28f5e7825",
   "metadata": {},
   "outputs": [
    {
     "name": "stdout",
     "output_type": "stream",
     "text": [
      "Model Relationship: Revenue($M)= 2645.3648371314703 + 359.1117844780439*Year + -0.0016477350872031598*Items('000) + -5.224239371296016*Employees('000) + -62.09518259426819*Global-GDP-Index-per-Capita\n"
     ]
    }
   ],
   "source": [
    "model_relationship = f\"Revenue($M)= {intercept}\"\n",
    "for i, var in enumerate(strongly_related_variables):\n",
    "    model_relationship += f\" + {Coefficient[i]}*{var}\"\n",
    "\n",
    "print(\"Model Relationship:\", model_relationship)"
   ]
  },
  {
   "cell_type": "code",
   "execution_count": null,
   "id": "750ae7f4-eb91-43a2-b55e-ed45420ac5b0",
   "metadata": {},
   "outputs": [],
   "source": []
  }
 ],
 "metadata": {
  "kernelspec": {
   "display_name": "Python 3 (ipykernel)",
   "language": "python",
   "name": "python3"
  },
  "language_info": {
   "codemirror_mode": {
    "name": "ipython",
    "version": 3
   },
   "file_extension": ".py",
   "mimetype": "text/x-python",
   "name": "python",
   "nbconvert_exporter": "python",
   "pygments_lexer": "ipython3",
   "version": "3.11.5"
  }
 },
 "nbformat": 4,
 "nbformat_minor": 5
}
